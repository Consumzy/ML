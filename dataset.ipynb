{
 "cells": [
  {
   "cell_type": "code",
   "execution_count": 3,
   "metadata": {},
   "outputs": [],
   "source": [
    "import os"
   ]
  },
  {
   "cell_type": "code",
   "execution_count": 2,
   "metadata": {},
   "outputs": [],
   "source": [
    "IMAGE_RAW = \"C:\\Dipung\\Kuliah\\Consumzy\\images\"\n"
   ]
  },
  {
   "cell_type": "code",
   "execution_count": 4,
   "metadata": {},
   "outputs": [
    {
     "name": "stdout",
     "output_type": "stream",
     "text": [
      "['README.dataset.txt', 'README.roboflow.txt', 'test', 'train', 'valid']\n"
     ]
    }
   ],
   "source": [
    "print(os.listdir(IMAGE_RAW))"
   ]
  },
  {
   "cell_type": "code",
   "execution_count": null,
   "metadata": {},
   "outputs": [],
   "source": [
    "TRAIN_PATH= os.path.join(IMAGE_RAW, 'train'),\n",
    "TEST_PATH= os.path.join(IMAGE_RAW,'test'),\n",
    "ARCHIVE_PATH= os.path.join('Tensorflow', 'workspace','archive.tar.gz')"
   ]
  },
  {
   "cell_type": "code",
   "execution_count": null,
   "metadata": {},
   "outputs": [
    {
     "name": "stderr",
     "output_type": "stream",
     "text": [
      "tar: no files or directories specified\n"
     ]
    }
   ],
   "source": [
    "!tar -czf {ARCHIVE_PATH}{TRAIN_PATH}{TEST_PATH}"
   ]
  },
  {
   "cell_type": "code",
   "execution_count": null,
   "metadata": {},
   "outputs": [],
   "source": [
    "!python {files['TF_RECORD_SCRIPT']} - x {os.path.join(paths['IMAGE_PATH'], 'train')} - l {files['LABELMAP']} - o {os.path.join(paths['ANNOTATION_PATH'], 'train.record')}\n",
    "!python {files['TF_RECORD_SCRIPT']} - x {os.path.join(paths['IMAGE_PATH'], 'test')} - l {files['LABELMAP']} - o {os.path.join(paths['ANNOTATION_PATH'], 'test.record')}\n"
   ]
  }
 ],
 "metadata": {
  "kernelspec": {
   "display_name": "Python 3.8.16 ('consumzy')",
   "language": "python",
   "name": "python3"
  },
  "language_info": {
   "codemirror_mode": {
    "name": "ipython",
    "version": 3
   },
   "file_extension": ".py",
   "mimetype": "text/x-python",
   "name": "python",
   "nbconvert_exporter": "python",
   "pygments_lexer": "ipython3",
   "version": "3.8.16"
  },
  "orig_nbformat": 4,
  "vscode": {
   "interpreter": {
    "hash": "9eb3ef67013aa094bd11a0d08923f1379803dc76f53bd37f56d46803c7054bd0"
   }
  }
 },
 "nbformat": 4,
 "nbformat_minor": 2
}
